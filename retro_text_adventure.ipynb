{
  "nbformat": 4,
  "nbformat_minor": 0,
  "metadata": {
    "colab": {
      "provenance": []
    },
    "kernelspec": {
      "name": "python3",
      "display_name": "Python 3"
    },
    "language_info": {
      "name": "python"
    }
  },
  "cells": [
    {
      "cell_type": "code",
      "execution_count": null,
      "metadata": {
        "colab": {
          "base_uri": "https://localhost:8080/"
        },
        "id": "3aJscip-H525",
        "outputId": "8fc07f02-e65a-4075-9e9e-1c5488139aba"
      },
      "outputs": [
        {
          "metadata": {
            "tags": null
          },
          "name": "stderr",
          "output_type": "stream",
          "text": [
            "Device set to use cpu\n"
          ]
        },
        {
          "metadata": {
            "tags": null
          },
          "name": "stdout",
          "output_type": "stream",
          "text": [
            "Welcome to the Retro Text Adventure Game!\n",
            "Type 'quit' or 'exit' at any time to leave the game.\n",
            "\n",
            "You wake up in a mysterious dungeon with flickering torches and echoing footsteps.\n"
          ]
        },
        {
          "metadata": {
            "tags": null
          },
          "name": "stderr",
          "output_type": "stream",
          "text": [
            "Setting `pad_token_id` to `eos_token_id`:50256 for open-end generation.\n"
          ]
        },
        {
          "metadata": {
            "tags": null
          },
          "name": "stdout",
          "output_type": "stream",
          "text": [
            "\n",
            "After you wake up in a dungeon, a man comes in and asks you for your name and password. What do you do?\n",
            "As long as you use the first character in the dungeon, you don't have to answer these questions. You just use your imagination.\n",
            "The first character's first line (and the last is the last character) are the ones where you've \"liked\" the second character. They're always the ones in the first, if the player has been a bad guy, or a drunk, or a drug addict.\n",
            "So you're a smart, rational, and kind person, yet you'd like someone else's name. The second character's third line (and the last is the\n"
          ]
        },
        {
          "metadata": {
            "tags": null
          },
          "name": "stderr",
          "output_type": "stream",
          "text": [
            "Setting `pad_token_id` to `eos_token_id`:50256 for open-end generation.\n"
          ]
        },
        {
          "metadata": {
            "tags": null
          },
          "name": "stdout",
          "output_type": "stream",
          "text": [
            "\n",
            "You need a story to advance the story. It's one that's\n"
          ]
        },
        {
          "metadata": {
            "tags": null
          },
          "name": "stderr",
          "output_type": "stream",
          "text": [
            "Setting `pad_token_id` to `eos_token_id`:50256 for open-end generation.\n"
          ]
        },
        {
          "metadata": {
            "tags": null
          },
          "name": "stdout",
          "output_type": "stream",
          "text": [
            "\n",
            "As the story progresses, you'll encounter monsters and dungeons.\n",
            "This is what you should expect from a game like Legend of Zelda's Link series. In general, you'll want to keep this game in your game list and in your friends lists to keep things coming back for others.\n",
            "A lot of these things are just gimmicks and have nothing to do with the plot. A lot of the \"story\" elements are what we call \"text\" elements. For instance, there are some character interactions that give the character information that may be not obvious at first glance. You get an idea of what a typical story is about through the dialogue you're given.\n",
            "As you progress your narrative, you'll find you can\n"
          ]
        }
      ],
      "source": [
        "\"\"\"\n",
        "Retro Text Adventure Game powered by MobileLLM\n",
        "\n",
        "\"\"\"\n",
        "\n",
        "import sys\n",
        "from transformers import pipeline\n",
        "\n",
        "model_identifier = \"gpt2\"\n",
        "\n",
        "hf_token = None\n",
        "\n",
        "\n",
        "generator = pipeline(\n",
        "    \"text-generation\",\n",
        "    model=model_identifier,\n",
        "    token=hf_token,\n",
        "    device=0\n",
        ")\n",
        "\n",
        "def generate_narrative(prompt):\n",
        "    \"\"\"\n",
        "    Generates a narrative continuation using the language model.\n",
        "\n",
        "    Args:\n",
        "        prompt (str): The prompt that includes game state and player's action.\n",
        "\n",
        "    Returns:\n",
        "        str: The generated narrative continuation.\n",
        "    \"\"\"\n",
        "    outputs = generator(\n",
        "        prompt,\n",
        "        max_length=200,\n",
        "        truncation=True,  # Explicitly enable truncation\n",
        "        do_sample=True,\n",
        "        top_k=50,\n",
        "        top_p=0.95,\n",
        "        temperature=1.0\n",
        "    )\n",
        "    full_text = outputs[0]['generated_text']\n",
        "    narrative = full_text[len(prompt):].strip()\n",
        "    return narrative\n",
        "\n",
        "\n",
        "def display_state(state):\n",
        "    \"\"\"\n",
        "    Nicely displays the current game state.\n",
        "\n",
        "    Args:\n",
        "        state (dict): The current game state.\n",
        "    \"\"\"\n",
        "    print(\"\\nCurrent Game State:\")\n",
        "    print(f\"  Location   : {state['location']}\")\n",
        "    print(f\"  Description: {state['description']}\")\n",
        "    print(f\"  Inventory  : {state['inventory']}\")\n",
        "\n",
        "def update_game_state(state, narrative):\n",
        "    state['description'] = narrative\n",
        "\n",
        "    return state\n",
        "\n",
        "def main():\n",
        "    # Introduction to the game.\n",
        "    print(\"Welcome to the Retro Text Adventure Game!\")\n",
        "    print(\"Type 'quit' or 'exit' at any time to leave the game.\\n\")\n",
        "\n",
        "    # Initialize the game state.\n",
        "    state = {\n",
        "        \"location\": \"dungeon\",\n",
        "        \"description\": \"You wake up in a mysterious dungeon with flickering torches and echoing footsteps.\",\n",
        "        \"inventory\": []\n",
        "    }\n",
        "\n",
        "    # Print the initial narrative.\n",
        "    print(state[\"description\"])\n",
        "\n",
        "    # Main game loop.\n",
        "    while True:\n",
        "\n",
        "        user_input = input(\"\\n>> What do you do? \").strip()\n",
        "        if user_input.lower() in ['quit', 'exit']:\n",
        "            print(\"Exiting game. Goodbye!\")\n",
        "            break\n",
        "\n",
        "        # Create a detailed prompt that includes the current state and player's action.\n",
        "        prompt = (\n",
        "            f\"Current game state:\\n\"\n",
        "            f\"Location: {state['location']}\\n\"\n",
        "            f\"Description: {state['description']}\\n\"\n",
        "            f\"Inventory: {state['inventory']}\\n\"\n",
        "            f\"Player's action: {user_input}\\n\"\n",
        "            f\"Generate a narrative in a retro text-adventure style that advances the story:\\n\"\n",
        "        )\n",
        "\n",
        "        # Generate narrative response from the language model.\n",
        "        narrative = generate_narrative(prompt)\n",
        "\n",
        "        # Print the AI-generated narrative.\n",
        "        print(\"\\n\" + narrative)\n",
        "\n",
        "        # Update the game state based on the narrative.\n",
        "        state = update_game_state(state, narrative)\n",
        "\n",
        "if __name__ == \"__main__\":\n",
        "    main()\n"
      ]
    }
  ]
}